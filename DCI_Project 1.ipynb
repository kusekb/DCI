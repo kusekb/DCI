{
 "cells": [
  {
   "cell_type": "markdown",
   "metadata": {},
   "source": [
    "# Maximizing Ad Revenue with the Free-App-Only Approach to the App Store and Google Play Markets\n",
    "\n",
    "In this project, I'm playing the role of a data analyst at a company that creates free applications for the App Store and Google Play markets. Since our apps are free, we can only make money from in-app ads, meaning we will disregard all paid app data.\n",
    "\n",
    "The best way to accrue ad revenue is for as many people to see our ads as possible. Therefore, our goal is to analyze the apps in this market to better help our company figure out what types of free apps attract the most users in order to increase our profit using the free-app-only approach.\n",
    "\n",
    "## 1. Opening the Datasets\n",
    "\n",
    "We need to open the two datasets in Jupyter Notebooks to start our analysis. First, we open the datasets using Python's built-in *open()* function. "
   ]
  },
  {
   "cell_type": "code",
   "execution_count": 1,
   "metadata": {},
   "outputs": [],
   "source": [
    "apple_file = open(\"AppleStore.csv\")\n",
    "google_file = open(\"googleplaystore.csv\")"
   ]
  },
  {
   "cell_type": "markdown",
   "metadata": {},
   "source": [
    "Next, we import the *reader* function from the *csv* library in order to read the *.csv* datasets we just opened."
   ]
  },
  {
   "cell_type": "code",
   "execution_count": 2,
   "metadata": {},
   "outputs": [],
   "source": [
    "from csv import reader\n",
    "read_apple_file = reader(apple_file)\n",
    "read_google_file = reader(google_file)"
   ]
  },
  {
   "cell_type": "markdown",
   "metadata": {},
   "source": [
    "Finally, we turn the datasets into list-of-lists using the built-in *list()* function."
   ]
  },
  {
   "cell_type": "code",
   "execution_count": 3,
   "metadata": {},
   "outputs": [],
   "source": [
    "app_data = list(read_apple_file)\n",
    "goog_data = list(read_google_file)\n",
    "\n",
    "# For the rest of this project, app_data and \n",
    "# goog_data are the App Store and Google Play \n",
    "# datasets respectively."
   ]
  },
  {
   "cell_type": "markdown",
   "metadata": {},
   "source": [
    "## 2. Exploring the Datasets\n",
    "\n",
    "Our company has given us this function to help us get started. We can use *explore_data()* to specify which chunk of our dataset we would like to print out and view, as well as an option to count the number of rows and columns if we want."
   ]
  },
  {
   "cell_type": "code",
   "execution_count": 4,
   "metadata": {},
   "outputs": [],
   "source": [
    "def explore_data(dataset, start, end, rows_and_columns=False):\n",
    "    dataset_slice = dataset[start:end]    \n",
    "   \n",
    "    # Here we use a for loop to print each list of\n",
    "    # the list-of-lists (each row of the dataset).\n",
    "\n",
    "    for row in dataset_slice:\n",
    "        print(row)\n",
    "        print('\\n') # adds a new (empty) line after each row\n",
    "\n",
    "    # And this if statement will calculate the number\n",
    "    # of rows and columns in the dataset if we set\n",
    "    # the boolean rows_and_columns to True.\n",
    "        \n",
    "    if rows_and_columns:\n",
    "        print('Number of rows:', len(dataset))\n",
    "        print('Number of columns:', len(dataset[0]))"
   ]
  },
  {
   "cell_type": "markdown",
   "metadata": {},
   "source": [
    "Now, by calling the function, we can easily display the first few rows (and skip the header row) by passing in start = *1* and end = *4*. We can also change the boolean variable *rows_and_columns* to *True* in order to see the number of rows and columns in the datasets."
   ]
  },
  {
   "cell_type": "code",
   "execution_count": 5,
   "metadata": {},
   "outputs": [
    {
     "name": "stdout",
     "output_type": "stream",
     "text": [
      "['284882215', 'Facebook', '389879808', 'USD', '0.0', '2974676', '212', '3.5', '3.5', '95.0', '4+', 'Social Networking', '37', '1', '29', '1']\n",
      "\n",
      "\n",
      "['389801252', 'Instagram', '113954816', 'USD', '0.0', '2161558', '1289', '4.5', '4.0', '10.23', '12+', 'Photo & Video', '37', '0', '29', '1']\n",
      "\n",
      "\n",
      "['529479190', 'Clash of Clans', '116476928', 'USD', '0.0', '2130805', '579', '4.5', '4.5', '9.24.12', '9+', 'Games', '38', '5', '18', '1']\n",
      "\n",
      "\n",
      "Number of rows: 7198\n",
      "Number of columns: 16\n",
      "\n",
      "\n",
      "['Photo Editor & Candy Camera & Grid & ScrapBook', 'ART_AND_DESIGN', '4.1', '159', '19M', '10,000+', 'Free', '0', 'Everyone', 'Art & Design', 'January 7, 2018', '1.0.0', '4.0.3 and up']\n",
      "\n",
      "\n",
      "['Coloring book moana', 'ART_AND_DESIGN', '3.9', '967', '14M', '500,000+', 'Free', '0', 'Everyone', 'Art & Design;Pretend Play', 'January 15, 2018', '2.0.0', '4.0.3 and up']\n",
      "\n",
      "\n",
      "['U Launcher Lite – FREE Live Cool Themes, Hide Apps', 'ART_AND_DESIGN', '4.7', '87510', '8.7M', '5,000,000+', 'Free', '0', 'Everyone', 'Art & Design', 'August 1, 2018', '1.2.4', '4.0.3 and up']\n",
      "\n",
      "\n",
      "Number of rows: 10842\n",
      "Number of columns: 13\n"
     ]
    }
   ],
   "source": [
    "explore_data(app_data,1,4,True) # Choose 1 to exclude the header row.\n",
    "print('\\n')\n",
    "explore_data(goog_data,1,4,True)"
   ]
  },
  {
   "cell_type": "markdown",
   "metadata": {},
   "source": [
    "It is also useful for us to know the column names so we can identify which information is the most important for our approach. We'll do this by printing the header rows."
   ]
  },
  {
   "cell_type": "code",
   "execution_count": 6,
   "metadata": {},
   "outputs": [
    {
     "name": "stdout",
     "output_type": "stream",
     "text": [
      "['id', 'track_name', 'size_bytes', 'currency', 'price', 'rating_count_tot', 'rating_count_ver', 'user_rating', 'user_rating_ver', 'ver', 'cont_rating', 'prime_genre', 'sup_devices.num', 'ipadSc_urls.num', 'lang.num', 'vpp_lic'] \n",
      "\n",
      "['App', 'Category', 'Rating', 'Reviews', 'Size', 'Installs', 'Type', 'Price', 'Content Rating', 'Genres', 'Last Updated', 'Current Ver', 'Android Ver']\n"
     ]
    }
   ],
   "source": [
    "print(app_data[0], \"\\n\")\n",
    "print(goog_data[0])"
   ]
  },
  {
   "cell_type": "markdown",
   "metadata": {},
   "source": [
    "**To save the trouble of defining all 29 column names, links to the [Apple](https://www.kaggle.com/ramamet4/app-store-apple-data-set-10k-apps) and [Google](https://www.kaggle.com/lava18/google-play-store-apps) dataset documentations have been provided.**\n",
    "\n",
    "From the documentation provided, and from our current interest of making free apps that appeal to the widest audience, we're interested in *track_name, currency, price, rating_count_tot, rating_count_ver, cont_rating, and prime_genre* from the Apple dataset.\n",
    "\n",
    "Following this logic, we would be interested in *Category, Reviews, Installs, Type, Price, Content Rating, and Genres* from the Google dataset. We're not interested in positive \n",
    "review data since our goal is to simply reach the most people we can.\n",
    "\n",
    "## 3. Fixing Errors\n",
    "\n",
    "Before we begin, we found out on a [discussion board](https://www.kaggle.com/lava18/google-play-store-apps/discussion/66015) that there's an error in the Google dataset around either line *10472* or *10473*. Let's investigate."
   ]
  },
  {
   "cell_type": "code",
   "execution_count": 7,
   "metadata": {},
   "outputs": [
    {
     "name": "stdout",
     "output_type": "stream",
     "text": [
      "['Xposed Wi-Fi-Pwd', 'PERSONALIZATION', '3.5', '1042', '404k', '100,000+', 'Free', '0', 'Everyone', 'Personalization', 'August 5, 2014', '3.0.0', '4.0.3 and up'] \n",
      "\n",
      "['Life Made WI-Fi Touchscreen Photo Frame', '1.9', '19', '3.0M', '1,000+', 'Free', '0', 'Everyone', '', 'February 11, 2018', '1.0.19', '4.0 and up'] \n",
      "\n",
      "['Photo Editor & Candy Camera & Grid & ScrapBook', 'ART_AND_DESIGN', '4.1', '159', '19M', '10,000+', 'Free', '0', 'Everyone', 'Art & Design', 'January 7, 2018', '1.0.0', '4.0.3 and up'] \n",
      "\n",
      "13 \n",
      "\n",
      "12 \n",
      "\n",
      "13\n"
     ]
    }
   ],
   "source": [
    "print(goog_data[10472], \"\\n\")\n",
    "print(goog_data[10473], \"\\n\")\n",
    "print(goog_data[1], \"\\n\")\n",
    "\n",
    "# By using the built in length function, we can count\n",
    "# how many items are in a list and compare them. I also\n",
    "# chose to include line 1 as a control in this experiment.\n",
    "\n",
    "print(len(goog_data[10472]), \"\\n\")\n",
    "print(len(goog_data[10473]), \"\\n\")\n",
    "print(len(goog_data[1]))"
   ]
  },
  {
   "cell_type": "markdown",
   "metadata": {},
   "source": [
    "We can see that the error was indeed at line *10473* because there are only 12 items in the list instead of 13. It's best not to include this row of the dataset since it's missing two values from a column that we're interested in, so let's delete it."
   ]
  },
  {
   "cell_type": "code",
   "execution_count": 8,
   "metadata": {},
   "outputs": [
    {
     "name": "stdout",
     "output_type": "stream",
     "text": [
      "['osmino Wi-Fi: free WiFi', 'TOOLS', '4.2', '134203', '4.1M', '10,000,000+', 'Free', '0', 'Everyone', 'Tools', 'August 7, 2018', '6.06.14', '4.4 and up']\n"
     ]
    }
   ],
   "source": [
    "print(goog_data[10474])\n",
    "del goog_data[10473]\n",
    "# DO NOT RUN THIS MORE THAN ONCE!!"
   ]
  },
  {
   "cell_type": "code",
   "execution_count": 9,
   "metadata": {},
   "outputs": [
    {
     "name": "stdout",
     "output_type": "stream",
     "text": [
      "['osmino Wi-Fi: free WiFi', 'TOOLS', '4.2', '134203', '4.1M', '10,000,000+', 'Free', '0', 'Everyone', 'Tools', 'August 7, 2018', '6.06.14', '4.4 and up']\n"
     ]
    }
   ],
   "source": [
    "print(goog_data[10473])\n",
    "\n",
    "# Upon printing, we should see the old row 10474\n",
    "# that we printed above has now taken the place \n",
    "# of our deleted row 10473."
   ]
  },
  {
   "cell_type": "markdown",
   "metadata": {},
   "source": [
    "## 4. Removing Duplicate Entries\n",
    "\n",
    "Looking further through the discussion board over the Google dataset, there's a [post](https://www.kaggle.com/lava18/google-play-store-apps/discussion/120506) about duplicate entries. Let's test a random  app name with a *for* loop and see if we come up with any duplicates."
   ]
  },
  {
   "cell_type": "code",
   "execution_count": 10,
   "metadata": {},
   "outputs": [
    {
     "name": "stdout",
     "output_type": "stream",
     "text": [
      "['Clash of Clans', 'GAME', '4.6', '44891723', '98M', '100,000,000+', 'Free', '0', 'Everyone 10+', 'Strategy', 'July 15, 2018', '10.322.16', '4.1 and up']\n",
      "['Clash of Clans', 'GAME', '4.6', '44891723', '98M', '100,000,000+', 'Free', '0', 'Everyone 10+', 'Strategy', 'July 15, 2018', '10.322.16', '4.1 and up']\n",
      "['Clash of Clans', 'GAME', '4.6', '44893888', '98M', '100,000,000+', 'Free', '0', 'Everyone 10+', 'Strategy', 'July 15, 2018', '10.322.16', '4.1 and up']\n",
      "['Clash of Clans', 'FAMILY', '4.6', '44881447', '98M', '100,000,000+', 'Free', '0', 'Everyone 10+', 'Strategy', 'July 15, 2018', '10.322.16', '4.1 and up']\n"
     ]
    }
   ],
   "source": [
    "for row in goog_data[1:]: # index 0 contains the header row.\n",
    "    app_name = row[0] # index 0 contains the app name.\n",
    "    if app_name == 'Clash of Clans':\n",
    "        print(row)"
   ]
  },
  {
   "cell_type": "markdown",
   "metadata": {},
   "source": [
    "Since the *for* loop returned 4 results, we know that there are 3 duplicate entries of *Clash of Clans*. Knowing this, let's edit the *for* loop so we can count all of the instances of duplicate entries."
   ]
  },
  {
   "cell_type": "code",
   "execution_count": 11,
   "metadata": {},
   "outputs": [
    {
     "name": "stdout",
     "output_type": "stream",
     "text": [
      "1181\n",
      "9659\n"
     ]
    }
   ],
   "source": [
    "duplicate_counter = 0 # Initializing the duplicate counter at zero.\n",
    "unique_entries = [] # Empty list that will store the proper entries.\n",
    "for row in goog_data[1:]:\n",
    "    if row[0] in unique_entries:\n",
    "        duplicate_counter += 1 # If our row is alreay there, it's a copy.\n",
    "    else:\n",
    "        unique_entries.append(row[0]) # If it isn't, add it to the list.\n",
    "        \n",
    "print(duplicate_counter) # This will be an integer since we used a counter.\n",
    "print(len(unique_entries)) # The length of this list is a comparable integer."
   ]
  },
  {
   "cell_type": "markdown",
   "metadata": {},
   "source": [
    "With this output, we can see there's an astounding 1,181 duplicate entries in our dataset. There are also 9,659 unique entries, but we can't just take this for face value. Let's make sure these numbers make sense."
   ]
  },
  {
   "cell_type": "code",
   "execution_count": 12,
   "metadata": {},
   "outputs": [
    {
     "name": "stdout",
     "output_type": "stream",
     "text": [
      "10840\n",
      "10840\n"
     ]
    }
   ],
   "source": [
    "theoretical_length = duplicate_counter + len(unique_entries)\n",
    "print(theoretical_length)\n",
    "\n",
    "actual_length = len(goog_data[1:]) # Exclude the header row.\n",
    "print(actual_length)"
   ]
  },
  {
   "cell_type": "markdown",
   "metadata": {},
   "source": [
    "Now that we know our numbers are correct, we can get rid of these duplicate entries. We don't want to randomly delete entries since we could be losing valuable data. Instead, we'll delete duplicates that have **less reviews**, since logically the number of reviews a popular app has shouldn't decrease over time. *People can't rescind a review like they can rescind a rating.*\n",
    "\n",
    "We first need to implement our strategy by creating an empty dictionary that stores only unique entries. However, we'll need to update this dictionary with a *for* loop whenever we find a duplicate entry that has a higher number of reviews than a unique entry."
   ]
  },
  {
   "cell_type": "code",
   "execution_count": 13,
   "metadata": {},
   "outputs": [
    {
     "name": "stdout",
     "output_type": "stream",
     "text": [
      "9659\n"
     ]
    }
   ],
   "source": [
    "reviews_max = {} # Create an empty dictionary.\n",
    "for row in goog_data[1:]:\n",
    "    name = row[0]\n",
    "    n_reviews = float(row[3]) # Index 3 is Reviews. We can't act\n",
    "                              # on a string, so we conver to float.\n",
    "    \n",
    "    # This first if statement will only update the dictionary\n",
    "    # when we find a duplicate entry with more reviews than our\n",
    "    # current entry.\n",
    "    \n",
    "    if name in reviews_max and reviews_max[name] < n_reviews:\n",
    "        reviews_max[name] = n_reviews\n",
    "        \n",
    "    # This second if statement will create an entry in the dictionary\n",
    "    # if and only if we find a unique entry.\n",
    "    \n",
    "    if name not in reviews_max:\n",
    "        reviews_max[name] = n_reviews\n",
    "        \n",
    "print(len(reviews_max)) # The length of our dictionary should be 9659."
   ]
  },
  {
   "cell_type": "markdown",
   "metadata": {},
   "source": [
    "Our output is *9659*, which confirms that our technique worked in creating a dictionary with no duplicate entries. Now, we need to actually delete these entries from the dataset."
   ]
  },
  {
   "cell_type": "code",
   "execution_count": 14,
   "metadata": {},
   "outputs": [
    {
     "name": "stdout",
     "output_type": "stream",
     "text": [
      "9659\n",
      "9659\n"
     ]
    }
   ],
   "source": [
    "android_clean = [] # Two empty lists to help with the deletion process.\n",
    "already_added = []\n",
    "\n",
    "for row in goog_data[1:]: # This code block is unchanged from before.\n",
    "    name = row[0]\n",
    "    n_reviews = float(row[3])\n",
    "    \n",
    "    # But now we can use our dictionary to help us. We'll first check\n",
    "    # if the number of reviews in a certain row of data is equal to\n",
    "    # that of a unique value in our dictionary. Then, we'll see if it\n",
    "    # has already been added to our list defined above. If not, the\n",
    "    # row will be added to our android_clean list.\n",
    "    \n",
    "    if n_reviews == reviews_max[name] and name not in already_added:\n",
    "        android_clean.append(row)\n",
    "        already_added.append(name)        \n",
    "\n",
    "print(len(android_clean)) # Again, we should get 9659.\n",
    "print(len(already_added)) # And this should also be 9659."
   ]
  },
  {
   "cell_type": "markdown",
   "metadata": {},
   "source": [
    "The reason *android_clean* and *already_added* are the same length is because both lists are only appended when the *if* statement is fulfilled. Otherwise, duplicate entries are ignored. \n",
    "\n",
    "Notice the difference between both lists: *android_clean* contains all unique rows (with the max number of reviews) from the Google Play dataset. But *already_added* just contains the name of apps that have already been added to the clean list."
   ]
  },
  {
   "cell_type": "code",
   "execution_count": 15,
   "metadata": {},
   "outputs": [
    {
     "name": "stdout",
     "output_type": "stream",
     "text": [
      "['Photo Editor & Candy Camera & Grid & ScrapBook', 'ART_AND_DESIGN', '4.1', '159', '19M', '10,000+', 'Free', '0', 'Everyone', 'Art & Design', 'January 7, 2018', '1.0.0', '4.0.3 and up'] \n",
      "\n",
      "Photo Editor & Candy Camera & Grid & ScrapBook\n"
     ]
    }
   ],
   "source": [
    "print(android_clean[0],\"\\n\")\n",
    "print(already_added[0])"
   ]
  },
  {
   "cell_type": "markdown",
   "metadata": {},
   "source": [
    "Before we move on, it's necessary to check if there's any discussion of incorrect data or duplicate entries on the Apple dataset discussions board. It seems that upon [looking there](https://www.kaggle.com/ramamet4/app-store-apple-data-set-10k-apps/discussion/90409), in a rare instance, the dataset is completely clean and free of duplicates and errors."
   ]
  },
  {
   "cell_type": "markdown",
   "metadata": {},
   "source": [
    "## 5. Removing Non-English Apps\n",
    "\n",
    "Our company is interested in almost all aspects of marketing free-apps, but we want to keep our focus on an English-speaking audience. Therefore, we need to remove all non-English entries in the new *android_clean* dataset so that these apps won't interfere with our analysis. \n",
    "\n",
    "We know that Python matches an integer from *0* to *127* with the letters of the English alphabet, so let's make a function that searches through the string of an app name, checks each letter and it's corresponding integer match, and reports if any letter is above *127* in value.\n",
    "\n",
    "To check the integer corresponding to a character in a string, we'll use Pythons built-in *ord()* function (the integer is known as a **Unicode** value)."
   ]
  },
  {
   "cell_type": "code",
   "execution_count": 16,
   "metadata": {},
   "outputs": [
    {
     "name": "stdout",
     "output_type": "stream",
     "text": [
      "True\n",
      "False\n",
      "False\n",
      "False\n"
     ]
    }
   ],
   "source": [
    "def english_or_not(name_of_app):\n",
    "    \n",
    "    for char in name_of_app:\n",
    "        if ord(char) > 127:\n",
    "            return False # If integer > 127, return false.\n",
    "    \n",
    "    return True # If 0 ≤ integer ≤ 127, return true.\n",
    "                # This means the if statement was ignored.\n",
    "\n",
    "# Now, we can test this function by calling it and passing\n",
    "# through a few app names our company provided us to check.\n",
    "\n",
    "print(english_or_not('Instagram'))\n",
    "print(english_or_not('爱奇艺PPS -《欢乐颂2》电视剧热播'))\n",
    "print(english_or_not('Docs To Go™ Free Office Suite'))\n",
    "print(english_or_not('Instachat 😜'))"
   ]
  },
  {
   "cell_type": "markdown",
   "metadata": {},
   "source": [
    "It looks like our function worked perfectly and *Instagram* is considered an English-speaking app while *爱奇艺PPS -《欢乐颂2》电视剧热播* is not. However, we have a problem in that *Docs To Go™ Free Office Suite* and *Instachat 😜* are considered non-English-speaking when they clearly **are** English-speaking."
   ]
  },
  {
   "cell_type": "code",
   "execution_count": 17,
   "metadata": {},
   "outputs": [
    {
     "name": "stdout",
     "output_type": "stream",
     "text": [
      "25773\n",
      "8482\n",
      "128540\n"
     ]
    }
   ],
   "source": [
    "print(ord('播'))\n",
    "print(ord('™'))\n",
    "print(ord('😜'))"
   ]
  },
  {
   "cell_type": "markdown",
   "metadata": {},
   "source": [
    "The problem is that just like Chinese characters, emoji are considered non-English characters. But since plenty of English-speaking apps use emoji, we'll need to relax the requirements of our function to return *False* so that we can allow English-speaking apps with emoji in the title to stay in our dataset. We'll use a counter to limit the number of emoji to *3*, any more and we'll return *False*."
   ]
  },
  {
   "cell_type": "code",
   "execution_count": 18,
   "metadata": {},
   "outputs": [
    {
     "name": "stdout",
     "output_type": "stream",
     "text": [
      "True\n",
      "False\n",
      "True\n",
      "True\n"
     ]
    }
   ],
   "source": [
    "def english_or_not(name_of_app):\n",
    "    emoji_counter = 0 # \n",
    "    for char in name_of_app:\n",
    "        if ord(char) > 127:\n",
    "            emoji_counter += 1 # If integer > 127, iterate counter.\n",
    "    \n",
    "    if emoji_counter > 3: # Only returns true if counter > 3.\n",
    "        return False\n",
    "    \n",
    "    return True # Only returns true if counter ≤ 3.\n",
    "\n",
    "print(english_or_not('Instagram'))\n",
    "print(english_or_not('爱奇艺PPS -《欢乐颂2》电视剧热播'))\n",
    "print(english_or_not('Docs To Go™ Free Office Suite'))\n",
    "print(english_or_not('Instachat 😜'))"
   ]
  },
  {
   "cell_type": "markdown",
   "metadata": {},
   "source": [
    "*爱奇艺PPS -《欢乐颂2》电视剧热播* is still considered a non-English app since there are plenty more than 3 special characters in the title. But now, *Docs To Go™ Free Office Suite* and *Instachat 😜* are considered English-speaking, which solves our problem.\n",
    "\n",
    "Let's now apply this function to the entire dataset in order to remove all non-English-speaking apps. We may accidentally remove some English-speaking apps that have more than 3 emoji in the title, but we should have enough rows of data to work with (as we'll see later)."
   ]
  },
  {
   "cell_type": "code",
   "execution_count": 19,
   "metadata": {},
   "outputs": [
    {
     "name": "stdout",
     "output_type": "stream",
     "text": [
      "9614\n",
      "6183 \n",
      "\n",
      "45\n",
      "1014\n"
     ]
    }
   ],
   "source": [
    "goog_english = [] # Empty lists that will contain our\n",
    "app_english = []  # English-speaking apps for both datasets.\n",
    "\n",
    "for row in android_clean:\n",
    "    name = row[0]\n",
    "    if english_or_not(name):\n",
    "        goog_english.append(row) # If it's English, add it to the list.\n",
    "        \n",
    "for row in app_data[1:]: # Exclude the header row from app_data.\n",
    "    name = row[1]\n",
    "    if english_or_not(name):\n",
    "        app_english.append(row)\n",
    "        \n",
    "# Now we should have two list-of-lists of only English-speaking apps.\n",
    "# By printing the length of these, we should see how many apps we have\n",
    "# left in each dataset. We can also use arithmetic to see how many apps\n",
    "# we deleted in the process.\n",
    "\n",
    "print(len(goog_english))\n",
    "print(len(app_english), \"\\n\")\n",
    "\n",
    "print(len(android_clean) - len(goog_english))\n",
    "print(len(app_data[1:]) - len(app_english))"
   ]
  },
  {
   "cell_type": "markdown",
   "metadata": {},
   "source": [
    "## 6. Isolating Free Apps\n",
    "\n",
    "Using the same method we did before to isolate English-speaking apps, we'll isolate **free** English-speaking apps. We'll take each app's price and compare it to *0* and *0.0* for the Google and Apple datasets respectively, then add the app entry to the new dataset only if its price is free."
   ]
  },
  {
   "cell_type": "code",
   "execution_count": 20,
   "metadata": {},
   "outputs": [
    {
     "name": "stdout",
     "output_type": "stream",
     "text": [
      "8864\n",
      "3222\n"
     ]
    }
   ],
   "source": [
    "goog_eng_free = []\n",
    "app_eng_free = []\n",
    "\n",
    "for row in goog_english:\n",
    "    price = row[7] # Index 7 is the Price value as an float.\n",
    "    if price == '0':\n",
    "        goog_eng_free.append(row)\n",
    "        \n",
    "for row in app_english:\n",
    "    price = row[4] # Index 4 is the price value as a float.\n",
    "    if price == '0.0':\n",
    "        app_eng_free.append(row)\n",
    "        \n",
    "# Just like before, now we should now have a smaller dataset\n",
    "# which only contains free, English-speaking apps.\n",
    "        \n",
    "print(len(goog_eng_free))\n",
    "print(len(app_eng_free))"
   ]
  },
  {
   "cell_type": "markdown",
   "metadata": {},
   "source": [
    "## 7. Building Frequency Tables by Genre\n",
    "Now that we've cleaned errors and duplicates, removed non-English entries, and removed paid apps from our datasets, we can finally analyze the material and determine what our company's best interest is. They provided us with their strategy so that we can use it to guide our analysis.\n",
    "\n",
    "1. __Build a minimal Android version of the app, and add it to Google Play.__\n",
    "\n",
    "2. __If the app has a good response from users, we develop it further.__\n",
    "\n",
    "3. __If the app is profitable after six months, we build an iOS version of the app and add it to the App Store.__\n",
    "\n",
    "Since our company's goal envisions an app that succeeds on both the Google and Apple market, we'll need to find apps that succeed in both markets. We can start by finding the most common genres for apps in each dataset by building a frequency table function.\n",
    "\n",
    "To do this, we'll create an empty dictionary and loop through each dataset using the *prime_genre* value as the **key** for the Apple dataset, the *Category* and *Genres* values as the **keys** for the Google dataset, and the number of instances as the **value pair** for both datasets.\n",
    "\n",
    "However, dictionaries do not preserve order, so we'll have to build a second function that will properly order our frequency table so we can easily see which genres make up the highest percentage of the market and help our company make a decision. We'll find the percentages by dividing the number of instances of each genre by the total number of apps in each dataset."
   ]
  },
  {
   "cell_type": "code",
   "execution_count": 21,
   "metadata": {},
   "outputs": [],
   "source": [
    "def build_a_freq_table(your_dataset, your_index):\n",
    "    dictionary = {}  # This dictionary is only defined in our function.\n",
    "    counter = 0      # Initialize a temporary counter variable to zero.\n",
    "    \n",
    "    for row in your_dataset:\n",
    "        counter += 1 # This will count how many rows you have for %'s.\n",
    "        value = row[your_index]\n",
    "        \n",
    "        # This if-else statement will either create a key-value pair\n",
    "        # or add one to a current value pair depending on if the \n",
    "        # current row is already in the dictionary. This way, you\n",
    "        # get a final dictionary with the total number of iterations\n",
    "        # of your_index, which in our case is Genres, prime_genre, etc.\n",
    "        \n",
    "        if value in dictionary:\n",
    "            dictionary[value] += 1\n",
    "        else:\n",
    "            dictionary[value] = 1\n",
    "    \n",
    "    percentage_dict = {} # This dictionary will be basically the same,\n",
    "                         # but it will have percentages as the value\n",
    "                         # instead of the number of iterations.\n",
    "    for key in dictionary:\n",
    "        percent = (dictionary[key] / counter) * 100\n",
    "        \n",
    "        # This arithmetic divides each value of a key by the total\n",
    "        # number of keys. For example, this will give us the percentage  \n",
    "        # of gaming apps out of all other genres.\n",
    "        \n",
    "        percentage_dict[key] = percent\n",
    "        \n",
    "        # This sets the value of each key to a percentage instead\n",
    "        # of a total number of iterations.\n",
    "    \n",
    "    return percentage_dict"
   ]
  },
  {
   "cell_type": "markdown",
   "metadata": {},
   "source": [
    "Our company provided a *display_table()* function for us that will organize the frequency table by descending percentages."
   ]
  },
  {
   "cell_type": "code",
   "execution_count": 22,
   "metadata": {},
   "outputs": [],
   "source": [
    "def display_table(dataset, index):\n",
    "    table = build_a_freq_table(dataset, index)\n",
    "    table_display = []\n",
    "    for key in table:\n",
    "        key_val_as_tuple = (table[key], key)\n",
    "        table_display.append(key_val_as_tuple)\n",
    "\n",
    "    table_sorted = sorted(table_display, reverse = True)\n",
    "    for entry in table_sorted:\n",
    "        print(entry[1], ':', entry[0])"
   ]
  },
  {
   "cell_type": "markdown",
   "metadata": {},
   "source": [
    "Let's use our functions to display the genre frequency tables for the Apple and Google datasets. To do this, we'll need to pass in each dataset as the first inputs of the function, and the index of *prime_genre*, *Genres*, and *Category* for the second inputs of the function."
   ]
  },
  {
   "cell_type": "code",
   "execution_count": 23,
   "metadata": {},
   "outputs": [
    {
     "name": "stdout",
     "output_type": "stream",
     "text": [
      "Games : 58.16263190564867\n",
      "Entertainment : 7.883302296710118\n",
      "Photo & Video : 4.9658597144630665\n",
      "Education : 3.662321539416512\n",
      "Social Networking : 3.2898820608317814\n",
      "Shopping : 2.60707635009311\n",
      "Utilities : 2.5139664804469275\n",
      "Sports : 2.1415270018621975\n",
      "Music : 2.0484171322160147\n",
      "Health & Fitness : 2.0173805090006205\n",
      "Productivity : 1.7380509000620732\n",
      "Lifestyle : 1.5828677839851024\n",
      "News : 1.3345747982619491\n",
      "Travel : 1.2414649286157666\n",
      "Finance : 1.1173184357541899\n",
      "Weather : 0.8690254500310366\n",
      "Food & Drink : 0.8069522036002483\n",
      "Reference : 0.5586592178770949\n",
      "Business : 0.5276225946617008\n",
      "Book : 0.4345127250155183\n",
      "Navigation : 0.186219739292365\n",
      "Medical : 0.186219739292365\n",
      "Catalogs : 0.12414649286157665\n"
     ]
    }
   ],
   "source": [
    "display_table(app_eng_free, 11)\n",
    "# This one is based on the prime_genre column of the Apple dataset."
   ]
  },
  {
   "cell_type": "code",
   "execution_count": 24,
   "metadata": {},
   "outputs": [
    {
     "name": "stdout",
     "output_type": "stream",
     "text": [
      "FAMILY : 18.907942238267147\n",
      "GAME : 9.724729241877256\n",
      "TOOLS : 8.461191335740072\n",
      "BUSINESS : 4.591606498194946\n",
      "LIFESTYLE : 3.9034296028880866\n",
      "PRODUCTIVITY : 3.892148014440433\n",
      "FINANCE : 3.7003610108303246\n",
      "MEDICAL : 3.531137184115524\n",
      "SPORTS : 3.395758122743682\n",
      "PERSONALIZATION : 3.3167870036101084\n",
      "COMMUNICATION : 3.2378158844765346\n",
      "HEALTH_AND_FITNESS : 3.0798736462093865\n",
      "PHOTOGRAPHY : 2.944494584837545\n",
      "NEWS_AND_MAGAZINES : 2.7978339350180503\n",
      "SOCIAL : 2.6624548736462095\n",
      "TRAVEL_AND_LOCAL : 2.33528880866426\n",
      "SHOPPING : 2.2450361010830324\n",
      "BOOKS_AND_REFERENCE : 2.1435018050541514\n",
      "DATING : 1.861462093862816\n",
      "VIDEO_PLAYERS : 1.7937725631768955\n",
      "MAPS_AND_NAVIGATION : 1.3989169675090252\n",
      "FOOD_AND_DRINK : 1.2409747292418771\n",
      "EDUCATION : 1.1620036101083033\n",
      "ENTERTAINMENT : 0.9589350180505415\n",
      "LIBRARIES_AND_DEMO : 0.9363718411552346\n",
      "AUTO_AND_VEHICLES : 0.9250902527075812\n",
      "HOUSE_AND_HOME : 0.8235559566787004\n",
      "WEATHER : 0.8009927797833934\n",
      "EVENTS : 0.7107400722021661\n",
      "PARENTING : 0.6543321299638989\n",
      "ART_AND_DESIGN : 0.6430505415162455\n",
      "COMICS : 0.6204873646209386\n",
      "BEAUTY : 0.5979241877256317\n"
     ]
    }
   ],
   "source": [
    "display_table(goog_eng_free, 1)\n",
    "# This one is based on the Category column of the Google dataset."
   ]
  },
  {
   "cell_type": "code",
   "execution_count": 25,
   "metadata": {},
   "outputs": [
    {
     "name": "stdout",
     "output_type": "stream",
     "text": [
      "Tools : 8.449909747292418\n",
      "Entertainment : 6.069494584837545\n",
      "Education : 5.347472924187725\n",
      "Business : 4.591606498194946\n",
      "Productivity : 3.892148014440433\n",
      "Lifestyle : 3.892148014440433\n",
      "Finance : 3.7003610108303246\n",
      "Medical : 3.531137184115524\n",
      "Sports : 3.463447653429603\n",
      "Personalization : 3.3167870036101084\n",
      "Communication : 3.2378158844765346\n",
      "Action : 3.1024368231046933\n",
      "Health & Fitness : 3.0798736462093865\n",
      "Photography : 2.944494584837545\n",
      "News & Magazines : 2.7978339350180503\n",
      "Social : 2.6624548736462095\n",
      "Travel & Local : 2.3240072202166067\n",
      "Shopping : 2.2450361010830324\n",
      "Books & Reference : 2.1435018050541514\n",
      "Simulation : 2.0419675090252705\n",
      "Dating : 1.861462093862816\n",
      "Arcade : 1.8501805054151623\n",
      "Video Players & Editors : 1.7712093862815883\n",
      "Casual : 1.7599277978339352\n",
      "Maps & Navigation : 1.3989169675090252\n",
      "Food & Drink : 1.2409747292418771\n",
      "Puzzle : 1.128158844765343\n",
      "Racing : 0.9927797833935018\n",
      "Role Playing : 0.9363718411552346\n",
      "Libraries & Demo : 0.9363718411552346\n",
      "Auto & Vehicles : 0.9250902527075812\n",
      "Strategy : 0.9138086642599278\n",
      "House & Home : 0.8235559566787004\n",
      "Weather : 0.8009927797833934\n",
      "Events : 0.7107400722021661\n",
      "Adventure : 0.6768953068592057\n",
      "Comics : 0.6092057761732852\n",
      "Beauty : 0.5979241877256317\n",
      "Art & Design : 0.5979241877256317\n",
      "Parenting : 0.4963898916967509\n",
      "Card : 0.45126353790613716\n",
      "Casino : 0.42870036101083037\n",
      "Trivia : 0.41741877256317694\n",
      "Educational;Education : 0.39485559566787\n",
      "Board : 0.3835740072202166\n",
      "Educational : 0.3722924187725632\n",
      "Education;Education : 0.33844765342960287\n",
      "Word : 0.2594765342960289\n",
      "Casual;Pretend Play : 0.236913357400722\n",
      "Music : 0.2030685920577617\n",
      "Racing;Action & Adventure : 0.16922382671480143\n",
      "Puzzle;Brain Games : 0.16922382671480143\n",
      "Entertainment;Music & Video : 0.16922382671480143\n",
      "Casual;Brain Games : 0.13537906137184114\n",
      "Casual;Action & Adventure : 0.13537906137184114\n",
      "Arcade;Action & Adventure : 0.12409747292418773\n",
      "Action;Action & Adventure : 0.10153429602888085\n",
      "Educational;Pretend Play : 0.09025270758122744\n",
      "Simulation;Action & Adventure : 0.078971119133574\n",
      "Parenting;Education : 0.078971119133574\n",
      "Entertainment;Brain Games : 0.078971119133574\n",
      "Board;Brain Games : 0.078971119133574\n",
      "Parenting;Music & Video : 0.06768953068592057\n",
      "Educational;Brain Games : 0.06768953068592057\n",
      "Casual;Creativity : 0.06768953068592057\n",
      "Art & Design;Creativity : 0.06768953068592057\n",
      "Education;Pretend Play : 0.056407942238267145\n",
      "Role Playing;Pretend Play : 0.04512635379061372\n",
      "Education;Creativity : 0.04512635379061372\n",
      "Role Playing;Action & Adventure : 0.033844765342960284\n",
      "Puzzle;Action & Adventure : 0.033844765342960284\n",
      "Entertainment;Creativity : 0.033844765342960284\n",
      "Entertainment;Action & Adventure : 0.033844765342960284\n",
      "Educational;Creativity : 0.033844765342960284\n",
      "Educational;Action & Adventure : 0.033844765342960284\n",
      "Education;Music & Video : 0.033844765342960284\n",
      "Education;Brain Games : 0.033844765342960284\n",
      "Education;Action & Adventure : 0.033844765342960284\n",
      "Adventure;Action & Adventure : 0.033844765342960284\n",
      "Video Players & Editors;Music & Video : 0.02256317689530686\n",
      "Sports;Action & Adventure : 0.02256317689530686\n",
      "Simulation;Pretend Play : 0.02256317689530686\n",
      "Puzzle;Creativity : 0.02256317689530686\n",
      "Music;Music & Video : 0.02256317689530686\n",
      "Entertainment;Pretend Play : 0.02256317689530686\n",
      "Casual;Education : 0.02256317689530686\n",
      "Board;Action & Adventure : 0.02256317689530686\n",
      "Video Players & Editors;Creativity : 0.01128158844765343\n",
      "Trivia;Education : 0.01128158844765343\n",
      "Travel & Local;Action & Adventure : 0.01128158844765343\n",
      "Tools;Education : 0.01128158844765343\n",
      "Strategy;Education : 0.01128158844765343\n",
      "Strategy;Creativity : 0.01128158844765343\n",
      "Strategy;Action & Adventure : 0.01128158844765343\n",
      "Simulation;Education : 0.01128158844765343\n",
      "Role Playing;Brain Games : 0.01128158844765343\n",
      "Racing;Pretend Play : 0.01128158844765343\n",
      "Puzzle;Education : 0.01128158844765343\n",
      "Parenting;Brain Games : 0.01128158844765343\n",
      "Music & Audio;Music & Video : 0.01128158844765343\n",
      "Lifestyle;Pretend Play : 0.01128158844765343\n",
      "Lifestyle;Education : 0.01128158844765343\n",
      "Health & Fitness;Education : 0.01128158844765343\n",
      "Health & Fitness;Action & Adventure : 0.01128158844765343\n",
      "Entertainment;Education : 0.01128158844765343\n",
      "Communication;Creativity : 0.01128158844765343\n",
      "Comics;Creativity : 0.01128158844765343\n",
      "Casual;Music & Video : 0.01128158844765343\n",
      "Card;Action & Adventure : 0.01128158844765343\n",
      "Books & Reference;Education : 0.01128158844765343\n",
      "Art & Design;Pretend Play : 0.01128158844765343\n",
      "Art & Design;Action & Adventure : 0.01128158844765343\n",
      "Arcade;Pretend Play : 0.01128158844765343\n",
      "Adventure;Education : 0.01128158844765343\n"
     ]
    }
   ],
   "source": [
    "display_table(goog_eng_free, 9)\n",
    "# This one is based on the Genres column of the Google dataset.\n",
    "# Recall that there can be apps that have multiple genres."
   ]
  },
  {
   "cell_type": "markdown",
   "metadata": {},
   "source": [
    "We've successfuly created 3 frequency tables that all relate to the genres of apps on the Apple and Google market. Let's analyze them one by one, starting from the top.\n",
    "\n",
    "### A. The App Store Market\n",
    "\n",
    "The Apple market is dominated by *Games* apps with over half of the marketshare at ~60%. *Entertainment* is at a far-away second place percentage of ~8%. \n",
    "\n",
    "When you add in the percentage of *Entertainment*, *Photo & Video*, *Social Networking*, *Sports*, and *Music* apps to the ~60% marketshare that *Games* have, the number jumps up to ~80%. So basically, 4 out of every 5 apps on the Apple Store are entertainment based. \n",
    "\n",
    "### B. The Google Play Market\n",
    "\n",
    "Compared to the Apple dataset, this dataset has much more variety of genres. The most common category is *Family* and *Game* apps, but there is a sizable chunk of non-entertainment apps in the marketshare. \n",
    "\n",
    "More surprisingly, the most common genre of app is *Tools* at ~8% of the marketshare. Second place is *Entertainment* at ~6%. There are a lot of mixed genres that games have, but it is important to note that if our company decided to make a *Business* or *Productivity* app in the Google market, we would still have a chance to reach people.\n",
    "\n",
    "### C. Making a Decision\n",
    "\n",
    "For our company to succeed in the Apple market, we'll need to produce entertainment apps, preferably games, in order to reach the largest number of people for ad revenue.\n",
    "\n",
    "While the choice to make games and family apps isn't as dire in the Google market, it's still the best choice for our company to reach the most people in the Google market as well.\n",
    "\n",
    "Since our company's strategy is to **start** in the Google market and then proceed to the Apple market if and only if the app is profitable after 6 months, this gives our company the chance to see if our app can profit in the smaller percentage of market that games have in the Google Play market first before we move to the giant gaming marketshare of the App Store.\n",
    "\n",
    "Our entertainment apps will have to succeed in the widely varied Google Play market. It's not easy for us to assume that if they succeed there, they will succeed in the saturated Apple Store market as well, but in order to reach the large market of the App Store, we will have to take risks as a company and produce games.\n",
    "\n",
    "Also, these frequency tables only show how **many** apps of each genre are on the market and don't show us how many users **actually downloaded** these apps. So, we'll need to do some further research to narrow our decision to more specific types of apps in the game area.\n",
    "\n",
    "## 8. Building Frequency Tables by Most Popular Genre\n",
    "\n",
    "By looking at the Google dataset documentation, we know that the column at index *5* is for *Installs*, or the number of downloads. But we don't have this information for the Apple dataset. So we'll get around that by using the *rating_count_tot* column at index *5* as a substitute.\n",
    "\n",
    "### A. Most Popular by Genre in the App Store"
   ]
  },
  {
   "cell_type": "markdown",
   "metadata": {},
   "source": [
    "First, we'll loop through the genres frequency table that we just created. Each time we do this, we'll set two variables to zero: the total number of user ratings, and the number of apps per genre. \n",
    "\n",
    "Then, we'll loop through every entry in the cleaned Apple dataset and see if we find a match. We will be on a certain genre, so if an app matches it, we'll store it into a variable and then iterate a variable by one to count that app. We'll also add the number of ratings that app has to the total.\n",
    "\n",
    "Once we have the total user ratings and number of apps, we can divide them respectively to get the average number of user ratings per genre. This will give us an idea of which genres are the most popular with users."
   ]
  },
  {
   "cell_type": "code",
   "execution_count": 26,
   "metadata": {},
   "outputs": [
    {
     "name": "stdout",
     "output_type": "stream",
     "text": [
      "Social Networking - 71548.34905660378\n",
      "Photo & Video - 28441.54375\n",
      "Games - 22788.6696905016\n",
      "Music - 57326.530303030304\n",
      "Reference - 74942.11111111111\n",
      "Health & Fitness - 23298.015384615384\n",
      "Weather - 52279.892857142855\n",
      "Utilities - 18684.456790123455\n",
      "Travel - 28243.8\n",
      "Shopping - 26919.690476190477\n",
      "News - 21248.023255813954\n",
      "Navigation - 86090.33333333333\n",
      "Lifestyle - 16485.764705882353\n",
      "Entertainment - 14029.830708661417\n",
      "Food & Drink - 33333.92307692308\n",
      "Sports - 23008.898550724636\n",
      "Book - 39758.5\n",
      "Finance - 31467.944444444445\n",
      "Education - 7003.983050847458\n",
      "Productivity - 21028.410714285714\n",
      "Business - 7491.117647058823\n",
      "Catalogs - 4004.0\n",
      "Medical - 612.0\n"
     ]
    }
   ],
   "source": [
    "# We need to generate a frequency table and store it in\n",
    "# a dictionary named genres_freq_table. We'll use our \n",
    "# function from before to generate it. \n",
    "\n",
    "genres_freq_table = build_a_freq_table(app_eng_free, 11)\n",
    "\n",
    "# Now, we can loop through this frequency table by each genre.\n",
    "# In another for loop, we see if we can find an app that has\n",
    "# the same genre as the first for loop, and if we do, we\n",
    "# update the total and len_genre variable. Eventually, every\n",
    "# genre from the first for loop will be matched with an app\n",
    "# from the second for loop.\n",
    "\n",
    "for genre in genres_freq_table:\n",
    "    \n",
    "    total = 0     # This counter will store the sum of user ratings.\n",
    "    len_genre = 0 # This counter will store the number of apps per genre.\n",
    "    \n",
    "    for row in app_eng_free:\n",
    "        genre_app = row[11] # Index 11 is the prime_genre value.\n",
    "        \n",
    "        if genre_app == genre:            \n",
    "            num_ratings = float(row[5]) # Index 5 is the rating_count_tot value.\n",
    "            total += num_ratings\n",
    "            len_genre += 1\n",
    "            \n",
    "    average = total / len_genre\n",
    "    print(genre, '-', average)"
   ]
  },
  {
   "cell_type": "markdown",
   "metadata": {},
   "source": [
    "From these results, we can see that despite *Games* having the largest marketshare, they do not have the highest number of user ratings. Even though this doesn't really show us how many people downloaded them, we can get an idea that games aren't necessarily the most popular apps.\n",
    "\n",
    "We can recommend to our company that entertainment apps focused on entertainment besides games would be a better approach, but something to note is that non-entertainment apps have a large amount of ratings as well. \n",
    "\n",
    "We can also recommend our company to make *Reference*, *Utility*, *Travel*, *Shopping*, *Lifestyle*, etc. apps and dominate that small portion of the marketplace to get the most ad revenue, but this is contrary to our first hypothesis. The gaming market **is** over-saturated and we might not have the best chance to create the next viral sensation, but abandoning the entertainment area entirely for one of these niche, non-entertainment sections may not be the best either.\n",
    "\n",
    "Since our company wants to start with the Google Play market first, let's postpone this decision until we look further through the Google Play dataset.\n",
    "\n",
    "### B. Most Popular by Genre in Google Play"
   ]
  },
  {
   "cell_type": "markdown",
   "metadata": {},
   "source": [
    "The technique for finding this frequency table is very similar to how we did it for the Apple dataset. The only difference is that the value for *Installs* is stored as a string, and has problems characters such as '+' and ',' mixed in with the numbers we need. We have to remove those and convert the *string* to a *float* so that we can use the value in calculations like before.\n",
    "\n",
    "Another problem is that besides the string conversion, the download data is very broad and only gives us a range of user downloads. We'll just have to take the number given to us as an estimate of the amount of downloads. We're doing this to get an idea of genre popularity, so accuracy isn't too important, and an estimation will suffice.\n",
    "\n",
    "We can use either the *Categories* or *Genres* column for this frequency table, but since the *Categories* column doesn't have mixed entries, we'll use that for now."
   ]
  },
  {
   "cell_type": "code",
   "execution_count": 27,
   "metadata": {},
   "outputs": [
    {
     "name": "stdout",
     "output_type": "stream",
     "text": [
      "ART_AND_DESIGN - 1986335.0877192982\n",
      "AUTO_AND_VEHICLES - 647317.8170731707\n",
      "BEAUTY - 513151.88679245283\n",
      "BOOKS_AND_REFERENCE - 8767811.894736841\n",
      "BUSINESS - 1712290.1474201474\n",
      "COMICS - 817657.2727272727\n",
      "COMMUNICATION - 38456119.167247385\n",
      "DATING - 854028.8303030303\n",
      "EDUCATION - 1833495.145631068\n",
      "ENTERTAINMENT - 11640705.88235294\n",
      "EVENTS - 253542.22222222222\n",
      "FINANCE - 1387692.475609756\n",
      "FOOD_AND_DRINK - 1924897.7363636363\n",
      "HEALTH_AND_FITNESS - 4188821.9853479853\n",
      "HOUSE_AND_HOME - 1331540.5616438356\n",
      "LIBRARIES_AND_DEMO - 638503.734939759\n",
      "LIFESTYLE - 1437816.2687861272\n",
      "GAME - 15588015.603248259\n",
      "FAMILY - 3695641.8198090694\n",
      "MEDICAL - 120550.61980830671\n",
      "SOCIAL - 23253652.127118643\n",
      "SHOPPING - 7036877.311557789\n",
      "PHOTOGRAPHY - 17840110.40229885\n",
      "SPORTS - 3638640.1428571427\n",
      "TRAVEL_AND_LOCAL - 13984077.710144928\n",
      "TOOLS - 10801391.298666667\n",
      "PERSONALIZATION - 5201482.6122448975\n",
      "PRODUCTIVITY - 16787331.344927534\n",
      "PARENTING - 542603.6206896552\n",
      "WEATHER - 5074486.197183099\n",
      "VIDEO_PLAYERS - 24727872.452830188\n",
      "NEWS_AND_MAGAZINES - 9549178.467741935\n",
      "MAPS_AND_NAVIGATION - 4056941.7741935486\n"
     ]
    }
   ],
   "source": [
    "# Generate the frequency table we'll be working on.\n",
    "categories_freq_table = build_a_freq_table(goog_eng_free, 1)\n",
    "\n",
    "# Loop through each category, and just like before, update\n",
    "# total and len_category when we find a match with row in\n",
    "# the second for loop.\n",
    "\n",
    "for category in categories_freq_table:\n",
    "    \n",
    "    total = 0\n",
    "    len_category = 0\n",
    "    \n",
    "    for row in goog_eng_free:\n",
    "        category_app = row[1] # Index 1 is the Category value.\n",
    "       \n",
    "        # If we find a match, we need to do some changes to\n",
    "        # the string (num_installs). First, we need to replace all\n",
    "        # of the commas and plus signs with '' in order to remove\n",
    "        # them. Then, everything works just like the last example\n",
    "        # once we convert the string into a float type.\n",
    "        \n",
    "        if category_app == category:            \n",
    "            \n",
    "            num_installs = row[5] # Index 5 is the Installs value.\n",
    "            num_installs = num_installs.replace(',', '')\n",
    "            num_installs = num_installs.replace('+', '')\n",
    "            \n",
    "            total += float(num_installs)\n",
    "            len_category += 1\n",
    "            \n",
    "    average = total / len_category\n",
    "    print(category, '-', average)"
   ]
  },
  {
   "cell_type": "markdown",
   "metadata": {},
   "source": [
    "## 9. Conclusion\n",
    "\n",
    "It's clear from the Google Play store that utility based apps do have a large amount of downloads, but our original hypothesis of focusing on game and entertainment apps has some basis too despite the saturated market. Clearly the markets for both types of apps are profitable on Google Play, but our company wants to focus on a certain type of app. \n",
    "\n",
    "So what to do? If games and entertainment are based on the rare ability to successfuly make viral content, and utility apps don't always work cross-platform, what do we choose to recommend to our company? *Medical*, *Parenting*, *Weather*, *Sports*, *Lifestyle*, *Health & Fitness*, and *Dating* are all situationally useful. *Most people aren't guaranteed to keep using these apps once downloaded*. We need to recommend something to our company that people will constantly use on the Google Play store that will translate to a large userbase in the App Store.\n",
    "\n",
    "Since *Navigation* and *Education* apps require a large degree of knowledge to produce, let's narrow it down to the next best option, and it's a lucrative one. If our company chooses to focus in the *Books & Reference* genre, we would reach a large userbase in both markets and succeed in accruing ad revenue on a constant basis. However, the are already industry giants that are inflating the statistics of this genre, so it's best to stay away, despite how good it seems on paper.\n",
    "\n",
    "So our final decision is to recommend making gaming apps to our company, but we need a little more feedback before we can determine what types of games to make.\n",
    "\n",
    "\n",
    "## 10. Narrowing Down the Final Recommendation\n",
    "\n",
    "After pitching the idea of making free games, the company changed it's position. They feel that typical free games don't last as long on the market as they would want them to, so they are open to paid content to keep users coming back. However, they only want to do so if there is enough positive feedback. Therefore, we need to find apps that have high user ratings and high download quantities so that we can narrow down what type of game to make.\n",
    "\n",
    "We haven't generated a frequency table of the *Genres* column of the Google dataset yet, so we can use this to help us find out. Once we create this frequency table, we'll use the *Ratings* column to determine which genres of games are the most well rated overall in the Google market and recommend some to the company."
   ]
  },
  {
   "cell_type": "code",
   "execution_count": 28,
   "metadata": {},
   "outputs": [
    {
     "name": "stdout",
     "output_type": "stream",
     "text": [
      "Art & Design - 2122850.9433962265\n",
      "Art & Design;Creativity - 285000.0\n",
      "Auto & Vehicles - 647317.8170731707\n",
      "Beauty - 513151.88679245283\n",
      "Books & Reference - 8767811.894736841\n",
      "Business - 1712290.1474201474\n",
      "Comics - 831873.1481481482\n",
      "Comics;Creativity - 50000.0\n",
      "Communication - 38456119.167247385\n",
      "Dating - 854028.8303030303\n",
      "Education - 550185.4430379746\n",
      "Education;Creativity - 2875000.0\n",
      "Education;Education - 4759517.0\n",
      "Education;Pretend Play - 1800000.0\n",
      "Education;Brain Games - 5333333.333333333\n",
      "Entertainment - 5602792.775092937\n",
      "Entertainment;Brain Games - 3314285.714285714\n",
      "Entertainment;Creativity - 4000000.0\n",
      "Entertainment;Music & Video - 6413333.333333333\n",
      "Events - 253542.22222222222\n",
      "Finance - 1387692.475609756\n",
      "Food & Drink - 1924897.7363636363\n",
      "Health & Fitness - 4188821.9853479853\n",
      "House & Home - 1331540.5616438356\n",
      "Libraries & Demo - 638503.734939759\n",
      "Lifestyle - 1412998.3449275363\n",
      "Lifestyle;Pretend Play - 10000000.0\n",
      "Card - 3815462.5\n",
      "Arcade - 22888365.48780488\n",
      "Puzzle - 8302861.91\n",
      "Racing - 15910645.681818182\n",
      "Sports - 4596842.615635179\n",
      "Casual - 19569221.602564104\n",
      "Simulation - 3475484.08839779\n",
      "Adventure - 4922785.333333333\n",
      "Trivia - 3475712.7027027025\n",
      "Action - 12603588.872727273\n",
      "Word - 9094458.695652174\n",
      "Role Playing - 3965645.421686747\n",
      "Strategy - 11199902.530864198\n",
      "Board - 4759209.117647059\n",
      "Music - 9445583.333333334\n",
      "Action;Action & Adventure - 5888888.888888889\n",
      "Casual;Brain Games - 1425916.6666666667\n",
      "Educational;Creativity - 2333333.3333333335\n",
      "Puzzle;Brain Games - 9280666.666666666\n",
      "Educational;Education - 1737143.142857143\n",
      "Casual;Pretend Play - 6957142.857142857\n",
      "Educational;Brain Games - 4433333.333333333\n",
      "Art & Design;Pretend Play - 500000.0\n",
      "Educational;Pretend Play - 9375000.0\n",
      "Entertainment;Education - 1000000.0\n",
      "Casual;Education - 1000000.0\n",
      "Casual;Creativity - 5333333.333333333\n",
      "Casual;Action & Adventure - 12916666.666666666\n",
      "Music;Music & Video - 5050000.0\n",
      "Arcade;Pretend Play - 1000000.0\n",
      "Adventure;Action & Adventure - 35333333.333333336\n",
      "Role Playing;Action & Adventure - 7000000.0\n",
      "Simulation;Pretend Play - 550000.0\n",
      "Puzzle;Creativity - 750000.0\n",
      "Simulation;Action & Adventure - 4857142.857142857\n",
      "Racing;Action & Adventure - 8816666.666666666\n",
      "Sports;Action & Adventure - 5050000.0\n",
      "Educational;Action & Adventure - 17016666.666666668\n",
      "Arcade;Action & Adventure - 3190909.1818181816\n",
      "Entertainment;Action & Adventure - 2333333.3333333335\n",
      "Art & Design;Action & Adventure - 100000.0\n",
      "Puzzle;Action & Adventure - 18366666.666666668\n",
      "Education;Action & Adventure - 1000000.0\n",
      "Strategy;Action & Adventure - 1000000.0\n",
      "Music & Audio;Music & Video - 500000.0\n",
      "Health & Fitness;Education - 100000.0\n",
      "Board;Action & Adventure - 3000000.0\n",
      "Board;Brain Games - 407142.85714285716\n",
      "Casual;Music & Video - 10000000.0\n",
      "Education;Music & Video - 2033333.3333333333\n",
      "Role Playing;Pretend Play - 5275000.0\n",
      "Entertainment;Pretend Play - 3000000.0\n",
      "Medical - 120550.61980830671\n",
      "Social - 23253652.127118643\n",
      "Shopping - 7036877.311557789\n",
      "Photography - 17840110.40229885\n",
      "Travel & Local - 14051476.145631067\n",
      "Travel & Local;Action & Adventure - 100000.0\n",
      "Tools - 10802461.246995995\n",
      "Tools;Education - 10000000.0\n",
      "Personalization - 5201482.6122448975\n",
      "Productivity - 16787331.344927534\n",
      "Parenting - 467977.5\n",
      "Parenting;Music & Video - 1118333.3333333333\n",
      "Parenting;Education - 452857.14285714284\n",
      "Parenting;Brain Games - 1000000.0\n",
      "Weather - 5074486.197183099\n",
      "Video Players & Editors - 24947335.796178345\n",
      "Video Players & Editors;Music & Video - 7500000.0\n",
      "Video Players & Editors;Creativity - 5000000.0\n",
      "News & Magazines - 9549178.467741935\n",
      "Maps & Navigation - 4056941.7741935486\n",
      "Health & Fitness;Action & Adventure - 1000000.0\n",
      "Educational - 411184.8484848485\n",
      "Casino - 3427910.5263157897\n",
      "Trivia;Education - 100.0\n",
      "Lifestyle;Education - 100000.0\n",
      "Card;Action & Adventure - 10000000.0\n",
      "Books & Reference;Education - 1000.0\n",
      "Simulation;Education - 500.0\n",
      "Puzzle;Education - 100000.0\n",
      "Adventure;Education - 10000000.0\n",
      "Role Playing;Brain Games - 10000000.0\n",
      "Strategy;Education - 500000.0\n",
      "Racing;Pretend Play - 1000000.0\n",
      "Communication;Creativity - 500000.0\n",
      "Strategy;Creativity - 1000000.0\n"
     ]
    }
   ],
   "source": [
    "# Generate the frequency table we'll be working on.\n",
    "genres_freq_table = build_a_freq_table(goog_eng_free, 9)\n",
    "\n",
    "# Loop through each category, and just like before, update\n",
    "# total and len_genre when we find a match with row in\n",
    "# the second for loop.\n",
    "\n",
    "for genre in genres_freq_table:\n",
    "    \n",
    "    total = 0\n",
    "    len_genre = 0\n",
    "    \n",
    "    for row in goog_eng_free:\n",
    "        genre_app = row[9] # Index 9 is the Genre value.\n",
    "       \n",
    "        # If we find a match, we need to do some changes to\n",
    "        # the string (num_installs). First, we need to replace all\n",
    "        # of the commas and plus signs with '' in order to remove\n",
    "        # them. Then, everything works just like the last example\n",
    "        # once we convert the string into a float type.\n",
    "        \n",
    "        if genre_app == genre:            \n",
    "            \n",
    "            num_installs = row[5] # Index 5 is the Installs value.\n",
    "            num_installs = num_installs.replace(',', '')\n",
    "            num_installs = num_installs.replace('+', '')\n",
    "            \n",
    "            total += float(num_installs)\n",
    "            len_genre += 1\n",
    "            \n",
    "    average = total / len_genre\n",
    "    print(genre, '-', average)"
   ]
  },
  {
   "cell_type": "markdown",
   "metadata": {},
   "source": [
    "From this frequency table, there's no real observable pattern, like hypothesized, since downloads are spread out evenly over the genres. We'll instead generate a frequency table based off of app ratings and see which genres are the most liked."
   ]
  },
  {
   "cell_type": "code",
   "execution_count": 29,
   "metadata": {},
   "outputs": [
    {
     "name": "stdout",
     "output_type": "stream",
     "text": [
      "Art & Design - 4.3352941176470585\n",
      "Art & Design;Creativity - 4.35\n",
      "Auto & Vehicles - 4.184722222222223\n",
      "Beauty - 4.278571428571428\n",
      "Books & Reference - 4.347798742138364\n",
      "Business - 4.10395256916996\n",
      "Comics - 4.165384615384617\n",
      "Comics;Creativity - 4.8\n",
      "Communication - 4.126923076923076\n",
      "Dating - 3.9824427480916027\n",
      "Education - 4.294117647058822\n",
      "Education;Creativity - 4.375\n",
      "Education;Education - 4.303333333333332\n",
      "Education;Pretend Play - 4.1\n",
      "Education;Brain Games - 4.433333333333334\n",
      "Entertainment - 4.0734065934065935\n",
      "Entertainment;Brain Games - 4.3\n",
      "Entertainment;Creativity - 4.533333333333333\n",
      "Entertainment;Music & Video - 4.180000000000001\n",
      "Events - 4.435555555555557\n",
      "Finance - 4.128373702422146\n",
      "Food & Drink - 4.1673913043478255\n",
      "Health & Fitness - 4.236051502145922\n",
      "House & Home - 4.140983606557378\n",
      "Libraries & Demo - 4.178125\n",
      "Lifestyle - 4.082374100719423\n",
      "Lifestyle;Pretend Play - 4.0\n",
      "Card - 4.031578947368422\n",
      "Arcade - 4.266233766233768\n",
      "Puzzle - 4.355421686746987\n",
      "Racing - 4.147619047619049\n",
      "Sports - 4.220491803278688\n",
      "Casual - 4.0873333333333335\n",
      "Simulation - 4.135999999999999\n",
      "Adventure - 4.127586206896552\n",
      "Trivia - 4.014814814814814\n",
      "Action - 4.235447761194027\n",
      "Word - 4.318181818181819\n",
      "Role Playing - 4.281250000000001\n",
      "Strategy - 4.174025974025973\n",
      "Board - 4.2718750000000005\n",
      "Music - 4.135294117647058\n",
      "Action;Action & Adventure - 4.288888888888888\n",
      "Casual;Brain Games - 4.475\n",
      "Educational;Creativity - 4.2\n",
      "Puzzle;Brain Games - 4.333333333333332\n",
      "Educational;Education - 4.224242424242425\n",
      "Casual;Pretend Play - 4.114285714285715\n",
      "Educational;Brain Games - 4.216666666666667\n",
      "Art & Design;Pretend Play - 3.9\n",
      "Educational;Pretend Play - 4.300000000000001\n",
      "Entertainment;Education - 4.4\n",
      "Casual;Education - 4.25\n",
      "Casual;Creativity - 4.35\n",
      "Casual;Action & Adventure - 4.183333333333333\n",
      "Music;Music & Video - 4.449999999999999\n",
      "Arcade;Pretend Play - 4.5\n",
      "Adventure;Action & Adventure - 4.3999999999999995\n",
      "Role Playing;Action & Adventure - 4.333333333333333\n",
      "Simulation;Pretend Play - 4.55\n",
      "Puzzle;Creativity - 4.4\n",
      "Simulation;Action & Adventure - 4.3428571428571425\n",
      "Racing;Action & Adventure - 4.313333333333333\n",
      "Sports;Action & Adventure - 4.5\n",
      "Educational;Action & Adventure - 4.233333333333333\n",
      "Arcade;Action & Adventure - 4.4\n",
      "Entertainment;Action & Adventure - 4.2\n",
      "Art & Design;Action & Adventure - 4.2\n",
      "Puzzle;Action & Adventure - 4.3\n",
      "Education;Action & Adventure - 4.266666666666667\n",
      "Strategy;Action & Adventure - 4.6\n",
      "Music & Audio;Music & Video - 4.3\n",
      "Health & Fitness;Education - 4.7\n",
      "Board;Action & Adventure - 4.05\n",
      "Board;Brain Games - 4.228571428571429\n",
      "Casual;Music & Video - 4.1\n",
      "Education;Music & Video - 4.133333333333333\n",
      "Role Playing;Pretend Play - 4.125\n",
      "Entertainment;Pretend Play - 4.0\n",
      "Medical - 4.147807017543858\n",
      "Social - 4.252736318407958\n",
      "Shopping - 4.227528089887643\n",
      "Photography - 4.164516129032258\n",
      "Travel & Local - 4.067977528089886\n",
      "Travel & Local;Action & Adventure - 4.1\n",
      "Tools - 4.027134146341464\n",
      "Tools;Education - 4.5\n",
      "Personalization - 4.300000000000001\n",
      "Productivity - 4.1819148936170265\n",
      "Parenting - 4.3921052631578945\n",
      "Parenting;Music & Video - 4.333333333333333\n",
      "Parenting;Education - 3.8666666666666667\n",
      "Parenting;Brain Games - 3.8\n",
      "Weather - 4.229230769230768\n",
      "Video Players & Editors - 4.043356643356644\n",
      "Video Players & Editors;Music & Video - 4.0\n",
      "Video Players & Editors;Creativity - 4.1\n",
      "News & Magazines - 4.1045454545454545\n",
      "Maps & Navigation - 4.039285714285714\n",
      "Health & Fitness;Action & Adventure - 3.9\n",
      "Educational - 3.9066666666666667\n",
      "Casino - 4.277777777777778\n",
      "Trivia;Education - 4.277777777777778\n",
      "Lifestyle;Education - 4.3\n",
      "Card;Action & Adventure - 4.3\n",
      "Books & Reference;Education - 3.7\n",
      "Simulation;Education - 4.4\n",
      "Puzzle;Education - 4.6\n",
      "Adventure;Education - 4.1\n",
      "Role Playing;Brain Games - 4.3\n",
      "Strategy;Education - 4.5\n",
      "Racing;Pretend Play - 4.5\n",
      "Communication;Creativity - 4.2\n",
      "Strategy;Creativity - 4.4\n"
     ]
    }
   ],
   "source": [
    "# Generate the frequency table we'll be working on.\n",
    "rate_genres_freq_table = build_a_freq_table(goog_eng_free, 9)\n",
    "\n",
    "# Now, we can loop through this frequency table by each genre.\n",
    "# In another for loop, we see if we can find an app that has\n",
    "# the same genre as the first for loop, and if we do, we\n",
    "# update the total and len_genre variable. Eventually, every\n",
    "# genre from the first for loop will be matched with an app\n",
    "# from the second for loop.\n",
    "\n",
    "for genre in rate_genres_freq_table:\n",
    "    \n",
    "    total = 0     # This counter will store the sum of user ratings.\n",
    "    len_genre = 0 # This counter will store the number of apps per genre.\n",
    "    \n",
    "    for row in goog_eng_free:\n",
    "        genre_app = row[9] # Index 9 is the Genre value.\n",
    "        \n",
    "        if genre_app == genre:\n",
    "            \n",
    "            # After glancing at the dataset, there are many values where\n",
    "            # instead of a rating, it says NaN, or Not a Number. We will\n",
    "            # need to get rid of these values or it will ruin or analysis.\n",
    "            \n",
    "            if row[2] == \"NaN\": # Index 2 is the Rating value.\n",
    "                rating_app = 0  # This prevents adding NaN to our total. \n",
    "\n",
    "            else:\n",
    "                rating_app = float(row[2]) # If it isn't NaN, make the rating\n",
    "                len_genre += 1 # a float and iterate the length counter by 1.\n",
    "            total += rating_app # Add the rating to the total.\n",
    "    \n",
    "    if len_genre != 0: # This checks that we don't divide by zero.\n",
    "        average = total / len_genre # And this is the average of the total\n",
    "                                    # number of ratings over how many apps\n",
    "                                    # are in the genre.\n",
    "        \n",
    "    print(genre, '-', average)"
   ]
  },
  {
   "cell_type": "markdown",
   "metadata": {},
   "source": [
    "## 11. Final Recommendation and Conclusion\n",
    "\n",
    "By observing the ratings, we can see that *Puzzle*, *Strategy*, *Brain*, *etc.* games seem to get the most positive reviews. This narrows are focus and allows us to recommend these types of apps to the company, and with large user bases and highly positive feedback, it would be in our best interest to offer paid content in the form of extra puzzles or challenges to increase revenue.\n",
    "\n",
    "Therefore, our final recommendation to the company is to produce free *Puzzle*, *Strategy*, *Brain*, *etc.* based games that require watching ads to continue, and/or purchasing extra content in order to remove ads or play exclusive content. If our game becomes profitable after a 6 month period on the Google Play store, it will be able to enjoy a large userbase in the App Store as well. Because these types of games are so well reviewed, we can be confident that users will not complain or lose interest in our apps because of ads or paid content."
   ]
  }
 ],
 "metadata": {
  "kernelspec": {
   "display_name": "Python 3",
   "language": "python",
   "name": "python3"
  },
  "language_info": {
   "codemirror_mode": {
    "name": "ipython",
    "version": 3
   },
   "file_extension": ".py",
   "mimetype": "text/x-python",
   "name": "python",
   "nbconvert_exporter": "python",
   "pygments_lexer": "ipython3",
   "version": "3.7.4"
  }
 },
 "nbformat": 4,
 "nbformat_minor": 2
}
